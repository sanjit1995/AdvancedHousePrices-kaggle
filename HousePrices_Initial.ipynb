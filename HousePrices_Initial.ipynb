{
  "nbformat": 4,
  "nbformat_minor": 0,
  "metadata": {
    "colab": {
      "name": "HousePrices_Initial.ipynb",
      "provenance": [],
      "collapsed_sections": [],
      "mount_file_id": "1sAPZ1t3em5FqD6TXVtuaOvCMwt1pbthv",
      "authorship_tag": "ABX9TyPhJM1ZwtqszDRNqu8w1hmJ",
      "include_colab_link": true
    },
    "kernelspec": {
      "name": "python3",
      "display_name": "Python 3"
    },
    "accelerator": "GPU"
  },
  "cells": [
    {
      "cell_type": "markdown",
      "metadata": {
        "id": "view-in-github",
        "colab_type": "text"
      },
      "source": [
        "<a href=\"https://colab.research.google.com/github/sanjit1995/AdvancedHousePrices-kaggle/blob/master/HousePrices_Initial.ipynb\" target=\"_parent\"><img src=\"https://colab.research.google.com/assets/colab-badge.svg\" alt=\"Open In Colab\"/></a>"
      ]
    },
    {
      "cell_type": "markdown",
      "metadata": {
        "id": "D0IbLMXJtcz8",
        "colab_type": "text"
      },
      "source": [
        "Import the libraries"
      ]
    },
    {
      "cell_type": "code",
      "metadata": {
        "id": "u0khM3MSdWfn",
        "colab_type": "code",
        "colab": {
          "base_uri": "https://localhost:8080/",
          "height": 71
        },
        "outputId": "a65b9bc8-2740-427f-fed1-175b80383661"
      },
      "source": [
        "import pandas as pd\n",
        "import numpy as np\n",
        "import matplotlib.pyplot as plt\n",
        "import seaborn as sns"
      ],
      "execution_count": 2,
      "outputs": [
        {
          "output_type": "stream",
          "text": [
            "/usr/local/lib/python3.6/dist-packages/statsmodels/tools/_testing.py:19: FutureWarning: pandas.util.testing is deprecated. Use the functions in the public API at pandas.testing instead.\n",
            "  import pandas.util.testing as tm\n"
          ],
          "name": "stderr"
        }
      ]
    },
    {
      "cell_type": "markdown",
      "metadata": {
        "id": "7CcHS08HWmbr",
        "colab_type": "text"
      },
      "source": [
        "Import train and test csv files"
      ]
    },
    {
      "cell_type": "code",
      "metadata": {
        "id": "2gzZvYaKXwrR",
        "colab_type": "code",
        "colab": {}
      },
      "source": [
        "train = pd.read_csv(\"/content/drive/My Drive/Colab Notebooks/data/HousePrices/train.csv\")\n",
        "test = pd.read_csv(\"/content/drive/My Drive/Colab Notebooks/data/HousePrices/test.csv\")"
      ],
      "execution_count": 0,
      "outputs": []
    },
    {
      "cell_type": "code",
      "metadata": {
        "id": "hakV5b5ydsws",
        "colab_type": "code",
        "colab": {}
      },
      "source": [
        "test.info()"
      ],
      "execution_count": 0,
      "outputs": []
    },
    {
      "cell_type": "code",
      "metadata": {
        "id": "91_IVsF0zgCa",
        "colab_type": "code",
        "colab": {}
      },
      "source": [
        "train.info()"
      ],
      "execution_count": 0,
      "outputs": []
    },
    {
      "cell_type": "markdown",
      "metadata": {
        "id": "cRtdZtzJyLcl",
        "colab_type": "text"
      },
      "source": [
        "Delete all columns which have very less values or irrelevant values"
      ]
    },
    {
      "cell_type": "code",
      "metadata": {
        "id": "x-ZsKknfyJ9b",
        "colab_type": "code",
        "colab": {}
      },
      "source": [
        "train.drop(['Alley','GarageYrBlt','PoolQC','Fence','MiscFeature','Id'], axis=1, inplace=True)\n",
        "test.drop(['Alley','GarageYrBlt','PoolQC','Fence','MiscFeature','Id'], axis=1, inplace=True)"
      ],
      "execution_count": 0,
      "outputs": []
    },
    {
      "cell_type": "markdown",
      "metadata": {
        "id": "ftSpEQMU42Ee",
        "colab_type": "text"
      },
      "source": [
        "Plot heatmap to track all columns"
      ]
    },
    {
      "cell_type": "code",
      "metadata": {
        "id": "4jx46XJnwuz8",
        "colab_type": "code",
        "colab": {}
      },
      "source": [
        "sns.heatmap(test.isnull(), yticklabels=False, cbar=False)"
      ],
      "execution_count": 0,
      "outputs": []
    },
    {
      "cell_type": "markdown",
      "metadata": {
        "id": "WphweBYm0iro",
        "colab_type": "text"
      },
      "source": [
        "To check if the column has categories or numbers, if categories then use mode() or mean() for numbers"
      ]
    },
    {
      "cell_type": "code",
      "metadata": {
        "id": "3jY4NcpEpHS8",
        "colab_type": "code",
        "colab": {}
      },
      "source": [
        "test['MasVnrArea'].value_counts()"
      ],
      "execution_count": 0,
      "outputs": []
    },
    {
      "cell_type": "markdown",
      "metadata": {
        "id": "CEaXyD3TzhDl",
        "colab_type": "text"
      },
      "source": [
        "As the data is a number and has a lot of values, the mean is used to replace all null data"
      ]
    },
    {
      "cell_type": "code",
      "metadata": {
        "id": "kgIW80skoW9P",
        "colab_type": "code",
        "colab": {}
      },
      "source": [
        "def naValuesAdjustment(df, req_size):\n",
        "  for i in range(0, df.columns.size):\n",
        "    if df.count()[i] < req_size: \n",
        "        if df.dtypes[i] == 'object':\n",
        "          df[df.columns[i]] = df[df.columns[i]].fillna(df[df.columns[i]].mode()[0])\n",
        "        else:\n",
        "          df[df.columns[i]] = df[df.columns[i]].fillna(df[df.columns[i]].mean())"
      ],
      "execution_count": 0,
      "outputs": []
    },
    {
      "cell_type": "markdown",
      "metadata": {
        "id": "MmmSeepM4jlk",
        "colab_type": "text"
      },
      "source": [
        "Train data adjustment"
      ]
    },
    {
      "cell_type": "code",
      "metadata": {
        "id": "pekgwBCaop5d",
        "colab_type": "code",
        "colab": {}
      },
      "source": [
        "naValuesAdjustment(df=train,req_size=1460)"
      ],
      "execution_count": 0,
      "outputs": []
    },
    {
      "cell_type": "markdown",
      "metadata": {
        "id": "a1uMIoLI4oCc",
        "colab_type": "text"
      },
      "source": [
        "Test data adjustment"
      ]
    },
    {
      "cell_type": "code",
      "metadata": {
        "id": "Rmi9A0vc4sG_",
        "colab_type": "code",
        "colab": {}
      },
      "source": [
        "naValuesAdjustment(df=test,req_size=1459)"
      ],
      "execution_count": 0,
      "outputs": []
    },
    {
      "cell_type": "markdown",
      "metadata": {
        "id": "AzSPa_cc_lz_",
        "colab_type": "text"
      },
      "source": [
        "Visualizing Correlation"
      ]
    },
    {
      "cell_type": "code",
      "metadata": {
        "id": "dkB4Kr-KsYFR",
        "colab_type": "code",
        "colab": {}
      },
      "source": [
        "#get correlations of each features in dataset\n",
        "corrmat = train.corr()\n",
        "top_corr_features = corrmat.index\n",
        "plt.figure(figsize=(25,25))\n",
        "#plot heat map\n",
        "g=sns.heatmap(train[top_corr_features].corr(),annot=True,cmap=\"RdYlGn\")"
      ],
      "execution_count": 0,
      "outputs": []
    },
    {
      "cell_type": "code",
      "metadata": {
        "id": "ofoUwiUr_k-w",
        "colab_type": "code",
        "colab": {}
      },
      "source": [
        "from sklearn.preprocessing import LabelEncoder\n",
        "temp_train = train.copy()\n",
        "temp_train = temp_train.apply(LabelEncoder().fit_transform)\n",
        "corr = temp_train.corr()\n",
        "print(corr)\n",
        "columns = np.full((corr.shape[0],), True, dtype=bool)\n",
        "print(corr.shape)\n",
        "for i in range(corr.shape[0]):\n",
        "    for j in range(i+1, corr.shape[0]):\n",
        "        if corr.iloc[i,j] >= 0.9:\n",
        "            if columns[j]:\n",
        "                columns[j] = False\n",
        "print(columns)\n",
        "selected_columns = temp_train.columns[columns]\n",
        "temp_train = temp_train[selected_columns]\n",
        "print(temp_train)"
      ],
      "execution_count": 0,
      "outputs": []
    },
    {
      "cell_type": "code",
      "metadata": {
        "id": "rdSgkZdUAfe1",
        "colab_type": "code",
        "colab": {}
      },
      "source": [
        "temp_x_train = train.loc[:,train.columns != 'SalePrice']\n",
        "temp_y_train = train.loc[:,train.columns == 'SalePrice']"
      ],
      "execution_count": 0,
      "outputs": []
    },
    {
      "cell_type": "code",
      "metadata": {
        "id": "a2nhdi0cu0jE",
        "colab_type": "code",
        "colab": {}
      },
      "source": [
        "from sklearn.feature_selection import SelectKBest\n",
        "from sklearn.feature_selection import chi2\n",
        "# using SelectKBest\n",
        "bestfeatures = SelectKBest(score_func=chi2, k=30)\n",
        "fit = bestfeatures.fit(temp_x_train,temp_y_train)\n",
        "dfscores = pd.DataFrame(fit.scores_)\n",
        "dfcolumns = pd.DataFrame(temp_x_train.columns)\n",
        "#concat two dataframes for better visualization \n",
        "featureScores = pd.concat([dfcolumns,dfscores],axis=1)\n",
        "featureScores.columns = ['Specs','Score']  #naming the dataframe columns\n",
        "print(featureScores.nlargest(30,'Score'))"
      ],
      "execution_count": 0,
      "outputs": []
    },
    {
      "cell_type": "markdown",
      "metadata": {
        "id": "ti0o2Xn4sVy9",
        "colab_type": "text"
      },
      "source": [
        "Feature Selection"
      ]
    },
    {
      "cell_type": "code",
      "metadata": {
        "id": "g7EKcA-NtJFT",
        "colab_type": "code",
        "colab": {}
      },
      "source": [
        "train.loc[:,train.columns != 'SalePrice']"
      ],
      "execution_count": 0,
      "outputs": []
    },
    {
      "cell_type": "markdown",
      "metadata": {
        "id": "s_W3m7DY3RYY",
        "colab_type": "text"
      },
      "source": [
        "Combine test and training data for one-hot encoding\n",
        "\n"
      ]
    },
    {
      "cell_type": "code",
      "metadata": {
        "id": "hPF081vv3Q33",
        "colab_type": "code",
        "colab": {}
      },
      "source": [
        "total_data = pd.concat([train,test], axis=0)"
      ],
      "execution_count": 0,
      "outputs": []
    },
    {
      "cell_type": "code",
      "metadata": {
        "id": "aWXdTZkh3jXW",
        "colab_type": "code",
        "colab": {}
      },
      "source": [
        "def onehot_encode_multicols(df, multicolumns):\n",
        "  temp_df = df\n",
        "  i = 0\n",
        "  for field in multicolumns:\n",
        "    df1 = pd.get_dummies(df[field], drop_first=True)\n",
        "    df.drop([field], axis=1, inplace=True)\n",
        "    if i == 0:\n",
        "      temp_df = df1.copy()\n",
        "    else:\n",
        "      temp_df = pd.concat([temp_df, df1], axis=1)\n",
        "    i += 1\n",
        "  temp_df = pd.concat([df, temp_df], axis=1)\n",
        "  return temp_df\n",
        "    "
      ],
      "execution_count": 0,
      "outputs": []
    },
    {
      "cell_type": "markdown",
      "metadata": {
        "id": "2TRDeQUhWyXr",
        "colab_type": "text"
      },
      "source": [
        "Select columns which have categories as data and apply one-hot-encoding to them"
      ]
    },
    {
      "cell_type": "code",
      "metadata": {
        "id": "Oiu32eb3AEGU",
        "colab_type": "code",
        "colab": {}
      },
      "source": [
        "categorical_cols = []\n",
        "for i in range(0, total_data.columns.size):\n",
        "  # print(i)\n",
        "  if total_data.dtypes[i] == 'object':\n",
        "    # print(total_data.columns[i])\n",
        "    categorical_cols.append(total_data.columns[i])"
      ],
      "execution_count": 0,
      "outputs": []
    },
    {
      "cell_type": "code",
      "metadata": {
        "id": "GGh5wQU9_V6f",
        "colab_type": "code",
        "colab": {}
      },
      "source": [
        "categorical_cols = np.array(categorical_cols)\n",
        "total_temp_data = onehot_encode_multicols(total_data, categorical_cols)"
      ],
      "execution_count": 0,
      "outputs": []
    },
    {
      "cell_type": "code",
      "metadata": {
        "id": "TDwSA9PG_tEq",
        "colab_type": "code",
        "colab": {}
      },
      "source": [
        "for i in range(0, total_temp_data.columns.size):\n",
        "  if(total_temp_data.columns.duplicated()[i] == True):\n",
        "    print(total_temp_data.columns[i])"
      ],
      "execution_count": 0,
      "outputs": []
    },
    {
      "cell_type": "markdown",
      "metadata": {
        "id": "vvZI1sWLCmaT",
        "colab_type": "text"
      },
      "source": [
        "Remove duplicate columns in the combined dataframe"
      ]
    },
    {
      "cell_type": "code",
      "metadata": {
        "id": "xy-oeu2TCeSJ",
        "colab_type": "code",
        "colab": {}
      },
      "source": [
        "total_temp_data = total_temp_data.loc[:,~total_temp_data.columns.duplicated()]"
      ],
      "execution_count": 0,
      "outputs": []
    },
    {
      "cell_type": "code",
      "metadata": {
        "id": "tDacJkZ8E-9n",
        "colab_type": "code",
        "colab": {
          "base_uri": "https://localhost:8080/",
          "height": 34
        },
        "outputId": "2556298f-8f3d-40ec-c229-22f47afd99ef"
      },
      "source": [
        "total_temp_data.shape"
      ],
      "execution_count": 14,
      "outputs": [
        {
          "output_type": "execute_result",
          "data": {
            "text/plain": [
              "(2919, 176)"
            ]
          },
          "metadata": {
            "tags": []
          },
          "execution_count": 14
        }
      ]
    },
    {
      "cell_type": "markdown",
      "metadata": {
        "id": "t0FaqNkpXKIW",
        "colab_type": "text"
      },
      "source": [
        "Separate the combined data into train and test data"
      ]
    },
    {
      "cell_type": "code",
      "metadata": {
        "id": "pHAKr7DrLy02",
        "colab_type": "code",
        "colab": {}
      },
      "source": [
        "train_data = total_temp_data.iloc[:1460,:]\n",
        "test_data = total_temp_data.iloc[1460:,:]"
      ],
      "execution_count": 0,
      "outputs": []
    },
    {
      "cell_type": "code",
      "metadata": {
        "id": "NisIjYzeMOIz",
        "colab_type": "code",
        "colab": {}
      },
      "source": [
        "test_data.drop(['SalePrice'], axis=1, inplace=True)"
      ],
      "execution_count": 0,
      "outputs": []
    },
    {
      "cell_type": "code",
      "metadata": {
        "id": "Mn18FgH1MpbZ",
        "colab_type": "code",
        "colab": {}
      },
      "source": [
        "x_train = train_data.drop(['SalePrice'], axis=1)\n",
        "y_train = train_data['SalePrice']"
      ],
      "execution_count": 0,
      "outputs": []
    },
    {
      "cell_type": "code",
      "metadata": {
        "id": "18fpoUo4MeaR",
        "colab_type": "code",
        "colab": {
          "base_uri": "https://localhost:8080/",
          "height": 34
        },
        "outputId": "95d5b615-a2fe-438c-dc73-1a852dfa5cf2"
      },
      "source": [
        "print(x_train.shape, y_train.shape)"
      ],
      "execution_count": 18,
      "outputs": [
        {
          "output_type": "stream",
          "text": [
            "(1460, 175) (1460,)\n"
          ],
          "name": "stdout"
        }
      ]
    },
    {
      "cell_type": "markdown",
      "metadata": {
        "id": "tVlgX5F2m9Gt",
        "colab_type": "text"
      },
      "source": [
        "Hyperparameter Optimization"
      ]
    },
    {
      "cell_type": "code",
      "metadata": {
        "id": "V8oMB7DWNRPE",
        "colab_type": "code",
        "colab": {}
      },
      "source": [
        "import xgboost\n",
        "#classifier = xgboost.XGBRegressor()\n",
        "regressor=xgboost.XGBRegressor()\n",
        "# classifier.fit(x_train, y_train)"
      ],
      "execution_count": 0,
      "outputs": []
    },
    {
      "cell_type": "code",
      "metadata": {
        "id": "kgV5c1o6TKOD",
        "colab_type": "code",
        "colab": {}
      },
      "source": [
        "import pickle\n",
        "filename = \"temp_model_HousePrediction.pkl\"\n",
        "pickle.dump(regressor, open(filename, 'wb'))"
      ],
      "execution_count": 0,
      "outputs": []
    },
    {
      "cell_type": "code",
      "metadata": {
        "id": "S54Ik-O2m_q1",
        "colab_type": "code",
        "colab": {}
      },
      "source": [
        "n_estimators = [500, 700, 900, 1100, 1300]\n",
        "max_depth = [2, 3, 5, 10, 15]\n",
        "booster = ['gbtree','gblinear']\n",
        "learning_rate = [0.05, 0.1, 0.15, 0.20]\n",
        "min_child_weight = [1,2,3,4]\n",
        "base_score = [0.25,0.5,0.75,1]"
      ],
      "execution_count": 0,
      "outputs": []
    },
    {
      "cell_type": "code",
      "metadata": {
        "id": "pT7mP21YnnZJ",
        "colab_type": "code",
        "colab": {}
      },
      "source": [
        "hyperparameter_grid = {\n",
        "    'n_estimators' : n_estimators,\n",
        "    'max_depth' : max_depth,\n",
        "    'learning_rate' : learning_rate,\n",
        "    'min_child_weight' : min_child_weight,\n",
        "    'booster' : booster,\n",
        "    'base_score' : base_score\n",
        "}"
      ],
      "execution_count": 0,
      "outputs": []
    },
    {
      "cell_type": "code",
      "metadata": {
        "id": "UGxov_jbocfZ",
        "colab_type": "code",
        "colab": {}
      },
      "source": [
        "from sklearn.model_selection import RandomizedSearchCV\n",
        "random_cv = RandomizedSearchCV(estimator=regressor,\n",
        "            param_distributions=hyperparameter_grid,\n",
        "            cv=5, n_iter=50,\n",
        "            scoring = 'neg_mean_absolute_error',n_jobs = 4,\n",
        "            verbose = 5, \n",
        "            return_train_score = True,\n",
        "            random_state=42)"
      ],
      "execution_count": 0,
      "outputs": []
    },
    {
      "cell_type": "code",
      "metadata": {
        "id": "puGoQKQzpmn_",
        "colab_type": "code",
        "colab": {
          "base_uri": "https://localhost:8080/",
          "height": 547
        },
        "outputId": "9b0a0643-a74e-4544-a14a-747267ff46a6"
      },
      "source": [
        "random_cv.fit(x_train,y_train)"
      ],
      "execution_count": 24,
      "outputs": [
        {
          "output_type": "stream",
          "text": [
            "Fitting 5 folds for each of 50 candidates, totalling 250 fits\n"
          ],
          "name": "stdout"
        },
        {
          "output_type": "stream",
          "text": [
            "[Parallel(n_jobs=4)]: Using backend LokyBackend with 4 concurrent workers.\n",
            "[Parallel(n_jobs=4)]: Done  10 tasks      | elapsed:   32.1s\n",
            "[Parallel(n_jobs=4)]: Done  64 tasks      | elapsed:  5.0min\n",
            "[Parallel(n_jobs=4)]: Done 154 tasks      | elapsed: 10.8min\n",
            "[Parallel(n_jobs=4)]: Done 250 out of 250 | elapsed: 15.9min finished\n"
          ],
          "name": "stderr"
        },
        {
          "output_type": "stream",
          "text": [
            "[15:55:32] WARNING: /workspace/src/objective/regression_obj.cu:152: reg:linear is now deprecated in favor of reg:squarederror.\n"
          ],
          "name": "stdout"
        },
        {
          "output_type": "execute_result",
          "data": {
            "text/plain": [
              "RandomizedSearchCV(cv=5, error_score=nan,\n",
              "                   estimator=XGBRegressor(base_score=0.5, booster='gbtree',\n",
              "                                          colsample_bylevel=1,\n",
              "                                          colsample_bynode=1,\n",
              "                                          colsample_bytree=1, gamma=0,\n",
              "                                          importance_type='gain',\n",
              "                                          learning_rate=0.1, max_delta_step=0,\n",
              "                                          max_depth=3, min_child_weight=1,\n",
              "                                          missing=None, n_estimators=100,\n",
              "                                          n_jobs=1, nthread=None,\n",
              "                                          objective='reg:linear',\n",
              "                                          random_state=0, reg_alpha=...\n",
              "                   iid='deprecated', n_iter=50, n_jobs=4,\n",
              "                   param_distributions={'base_score': [0.25, 0.5, 0.75, 1],\n",
              "                                        'booster': ['gbtree', 'gblinear'],\n",
              "                                        'learning_rate': [0.05, 0.1, 0.15, 0.2],\n",
              "                                        'max_depth': [2, 3, 5, 10, 15],\n",
              "                                        'min_child_weight': [1, 2, 3, 4],\n",
              "                                        'n_estimators': [500, 700, 900, 1100,\n",
              "                                                         1300]},\n",
              "                   pre_dispatch='2*n_jobs', random_state=42, refit=True,\n",
              "                   return_train_score=True, scoring='neg_mean_absolute_error',\n",
              "                   verbose=5)"
            ]
          },
          "metadata": {
            "tags": []
          },
          "execution_count": 24
        }
      ]
    },
    {
      "cell_type": "code",
      "metadata": {
        "id": "1V-HU1q3pyv2",
        "colab_type": "code",
        "colab": {
          "base_uri": "https://localhost:8080/",
          "height": 136
        },
        "outputId": "1eb735a3-4b60-4c11-c511-d0061b14c57d"
      },
      "source": [
        "random_cv.best_estimator_"
      ],
      "execution_count": 25,
      "outputs": [
        {
          "output_type": "execute_result",
          "data": {
            "text/plain": [
              "XGBRegressor(base_score=0.25, booster='gbtree', colsample_bylevel=1,\n",
              "             colsample_bynode=1, colsample_bytree=1, gamma=0,\n",
              "             importance_type='gain', learning_rate=0.1, max_delta_step=0,\n",
              "             max_depth=2, min_child_weight=1, missing=None, n_estimators=900,\n",
              "             n_jobs=1, nthread=None, objective='reg:linear', random_state=0,\n",
              "             reg_alpha=0, reg_lambda=1, scale_pos_weight=1, seed=None,\n",
              "             silent=None, subsample=1, verbosity=1)"
            ]
          },
          "metadata": {
            "tags": []
          },
          "execution_count": 25
        }
      ]
    },
    {
      "cell_type": "markdown",
      "metadata": {
        "id": "0fxg0jJ7qDan",
        "colab_type": "text"
      },
      "source": [
        "Put the above output in the below code argument"
      ]
    },
    {
      "cell_type": "code",
      "metadata": {
        "id": "csQjMem5qIhk",
        "colab_type": "code",
        "colab": {}
      },
      "source": [
        "regressor=xgboost.XGBRegressor(base_score=0.25, booster='gbtree', colsample_bylevel=1,\n",
        "             colsample_bynode=1, colsample_bytree=1, gamma=0,\n",
        "             importance_type='gain', learning_rate=0.1, max_delta_step=0,\n",
        "             max_depth=2, min_child_weight=1, missing=None, n_estimators=900,\n",
        "             n_jobs=1, nthread=None, objective='reg:linear', random_state=0,\n",
        "             reg_alpha=0, reg_lambda=1, scale_pos_weight=1, seed=None,\n",
        "             silent=None, subsample=1, verbosity=1)"
      ],
      "execution_count": 0,
      "outputs": []
    },
    {
      "cell_type": "code",
      "metadata": {
        "id": "RXd-CocZ6AjI",
        "colab_type": "code",
        "colab": {}
      },
      "source": [
        "regressor.fit(x_train,y_train)"
      ],
      "execution_count": 0,
      "outputs": []
    },
    {
      "cell_type": "code",
      "metadata": {
        "id": "falFE2vOTjQ_",
        "colab_type": "code",
        "colab": {}
      },
      "source": [
        "y_pred = regressor.predict(test_data)"
      ],
      "execution_count": 0,
      "outputs": []
    },
    {
      "cell_type": "code",
      "metadata": {
        "id": "xCcecEu8ULRH",
        "colab_type": "code",
        "colab": {
          "base_uri": "https://localhost:8080/",
          "height": 51
        },
        "outputId": "94a96d97-bd8e-4988-d7d7-c598bbb9d250"
      },
      "source": [
        "y_pred"
      ],
      "execution_count": 33,
      "outputs": [
        {
          "output_type": "execute_result",
          "data": {
            "text/plain": [
              "array([120798.664, 161697.34 , 186119.52 , ..., 170830.77 , 118554.76 ,\n",
              "       234535.25 ], dtype=float32)"
            ]
          },
          "metadata": {
            "tags": []
          },
          "execution_count": 33
        }
      ]
    },
    {
      "cell_type": "code",
      "metadata": {
        "id": "Z-lQ1AOQUPta",
        "colab_type": "code",
        "colab": {}
      },
      "source": [
        "pred = pd.DataFrame(y_pred)\n",
        "sub_df = pd.read_csv(\"/content/drive/My Drive/Colab Notebooks/data/HousePrices/sample_submission.csv\")\n",
        "datasets = pd.concat([sub_df['Id'],pred], axis=1)\n",
        "datasets.columns = ['Id', 'SalePrice']\n",
        "datasets.to_csv('sample_submission.csv', index=False)"
      ],
      "execution_count": 0,
      "outputs": []
    }
  ]
}